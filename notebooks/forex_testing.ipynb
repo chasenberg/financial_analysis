{
 "cells": [
  {
   "cell_type": "code",
   "execution_count": 2,
   "metadata": {
    "collapsed": true
   },
   "outputs": [],
   "source": [
    "import sys\n",
    "sys.path.append('/home/chris/repos/financial_analysis/')\n",
    "import pandas as pd\n",
    "\n",
    "from IPython.display import display\n",
    "import matplotlib.pyplot as plt\n",
    "import seaborn as sns\n",
    "%matplotlib inline\n",
    "\n",
    "from credentials import *"
   ]
  },
  {
   "cell_type": "code",
   "execution_count": 29,
   "metadata": {},
   "outputs": [],
   "source": [
    "import requests\n",
    "import json\n",
    "import pprint\n",
    "\n",
    "url = \"https://www.alphavantage.co/query\"\n",
    "outFile = '../newfile.csv'\n",
    "function = \"CURRENCY_EXCHANGE_RATE\"\n",
    "symbol = \"^GSPC\"\n",
    "api_key = key\n",
    "\n",
    "data = { \"function\": function, \n",
    "         \"symbol\": symbol, \n",
    "         \"apikey\": key,\n",
    "         'from_currency' : 'usd',\n",
    "         'to_currency' : 'eur',\n",
    "         \"outputsize\": 'compact',\n",
    "         \"datatype\": 'csv'} \n",
    "page = requests.get(url, params = data)\n",
    "#pprint.pprint(page.json())\n",
    "\n",
    "with open(outFile, 'w') as oF:\n",
    "    oF.write(page.text)"
   ]
  },
  {
   "cell_type": "code",
   "execution_count": 30,
   "metadata": {},
   "outputs": [],
   "source": [
    "df = pd.read_json(outFile)"
   ]
  },
  {
   "cell_type": "code",
   "execution_count": 31,
   "metadata": {},
   "outputs": [],
   "source": [
    "value = df['Realtime Currency Exchange Rate'][4]"
   ]
  },
  {
   "cell_type": "code",
   "execution_count": 32,
   "metadata": {},
   "outputs": [
    {
     "data": {
      "text/plain": [
       "'0.80666400'"
      ]
     },
     "execution_count": 32,
     "metadata": {},
     "output_type": "execute_result"
    }
   ],
   "source": [
    "value"
   ]
  },
  {
   "cell_type": "code",
   "execution_count": 33,
   "metadata": {},
   "outputs": [
    {
     "data": {
      "text/html": [
       "<div>\n",
       "<style>\n",
       "    .dataframe thead tr:only-child th {\n",
       "        text-align: right;\n",
       "    }\n",
       "\n",
       "    .dataframe thead th {\n",
       "        text-align: left;\n",
       "    }\n",
       "\n",
       "    .dataframe tbody tr th {\n",
       "        vertical-align: top;\n",
       "    }\n",
       "</style>\n",
       "<table border=\"1\" class=\"dataframe\">\n",
       "  <thead>\n",
       "    <tr style=\"text-align: right;\">\n",
       "      <th></th>\n",
       "      <th>Realtime Currency Exchange Rate</th>\n",
       "    </tr>\n",
       "  </thead>\n",
       "  <tbody>\n",
       "    <tr>\n",
       "      <th>1. From_Currency Code</th>\n",
       "      <td>usd</td>\n",
       "    </tr>\n",
       "    <tr>\n",
       "      <th>2. From_Currency Name</th>\n",
       "      <td>None</td>\n",
       "    </tr>\n",
       "    <tr>\n",
       "      <th>3. To_Currency Code</th>\n",
       "      <td>eur</td>\n",
       "    </tr>\n",
       "    <tr>\n",
       "      <th>4. To_Currency Name</th>\n",
       "      <td>None</td>\n",
       "    </tr>\n",
       "    <tr>\n",
       "      <th>5. Exchange Rate</th>\n",
       "      <td>0.80666400</td>\n",
       "    </tr>\n",
       "    <tr>\n",
       "      <th>6. Last Refreshed</th>\n",
       "      <td>2018-03-08 07:12:17</td>\n",
       "    </tr>\n",
       "    <tr>\n",
       "      <th>7. Time Zone</th>\n",
       "      <td>UTC</td>\n",
       "    </tr>\n",
       "  </tbody>\n",
       "</table>\n",
       "</div>"
      ],
      "text/plain": [
       "                      Realtime Currency Exchange Rate\n",
       "1. From_Currency Code                             usd\n",
       "2. From_Currency Name                            None\n",
       "3. To_Currency Code                               eur\n",
       "4. To_Currency Name                              None\n",
       "5. Exchange Rate                           0.80666400\n",
       "6. Last Refreshed                 2018-03-08 07:12:17\n",
       "7. Time Zone                                      UTC"
      ]
     },
     "execution_count": 33,
     "metadata": {},
     "output_type": "execute_result"
    }
   ],
   "source": [
    "df"
   ]
  },
  {
   "cell_type": "code",
   "execution_count": null,
   "metadata": {
    "collapsed": true
   },
   "outputs": [],
   "source": []
  }
 ],
 "metadata": {
  "kernelspec": {
   "display_name": "Python 3",
   "language": "python",
   "name": "python3"
  },
  "language_info": {
   "codemirror_mode": {
    "name": "ipython",
    "version": 3
   },
   "file_extension": ".py",
   "mimetype": "text/x-python",
   "name": "python",
   "nbconvert_exporter": "python",
   "pygments_lexer": "ipython3",
   "version": "3.6.3"
  }
 },
 "nbformat": 4,
 "nbformat_minor": 2
}
