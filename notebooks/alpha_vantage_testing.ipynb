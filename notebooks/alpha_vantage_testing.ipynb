{
 "cells": [
  {
   "cell_type": "code",
   "execution_count": 15,
   "metadata": {
    "collapsed": true
   },
   "outputs": [],
   "source": [
    "import sys\n",
    "sys.path.append('/home/chris/repos/financial_analysis/')\n",
    "import pandas as pd\n",
    "\n",
    "from IPython.display import display\n",
    "import matplotlib.pyplot as plt\n",
    "import seaborn as sns\n",
    "%matplotlib inline"
   ]
  },
  {
   "cell_type": "code",
   "execution_count": 16,
   "metadata": {
    "collapsed": true
   },
   "outputs": [],
   "source": [
    "from credentials import *"
   ]
  },
  {
   "cell_type": "code",
   "execution_count": 61,
   "metadata": {},
   "outputs": [],
   "source": [
    "import requests\n",
    "import json\n",
    "import pprint\n",
    "\n",
    "url = \"https://www.alphavantage.co/query\"\n",
    "outFile = '../newfile.csv'\n",
    "function = \"TIME_SERIES_DAILY\"\n",
    "symbol = \"^GSPC\"\n",
    "api_key = key\n",
    "\n",
    "data = { \"function\": function, \n",
    "         \"symbol\": symbol, \n",
    "         \"apikey\": api_key,\n",
    "         \"outputsize\": 'compact',\n",
    "         \"datatype\": 'csv'} \n",
    "page = requests.get(url, params = data)\n",
    "#pprint.pprint(page.json())\n",
    "\n",
    "with open(outFile, 'w') as oF:\n",
    "    oF.write(page.text)"
   ]
  },
  {
   "cell_type": "code",
   "execution_count": 62,
   "metadata": {},
   "outputs": [],
   "source": [
    "dax = 'DAX'\n",
    "df = pd.read_csv('../newfile.csv',usecols=[\"timestamp\", \"close\"]).rename(columns={'close' : 'close_'+dax})"
   ]
  },
  {
   "cell_type": "code",
   "execution_count": 63,
   "metadata": {},
   "outputs": [
    {
     "data": {
      "text/html": [
       "<div>\n",
       "<style>\n",
       "    .dataframe thead tr:only-child th {\n",
       "        text-align: right;\n",
       "    }\n",
       "\n",
       "    .dataframe thead th {\n",
       "        text-align: left;\n",
       "    }\n",
       "\n",
       "    .dataframe tbody tr th {\n",
       "        vertical-align: top;\n",
       "    }\n",
       "</style>\n",
       "<table border=\"1\" class=\"dataframe\">\n",
       "  <thead>\n",
       "    <tr style=\"text-align: right;\">\n",
       "      <th></th>\n",
       "      <th>timestamp</th>\n",
       "      <th>close_DAX</th>\n",
       "    </tr>\n",
       "  </thead>\n",
       "  <tbody>\n",
       "    <tr>\n",
       "      <th>0</th>\n",
       "      <td>2018-03-06</td>\n",
       "      <td>2728.1201</td>\n",
       "    </tr>\n",
       "    <tr>\n",
       "      <th>1</th>\n",
       "      <td>2018-03-05</td>\n",
       "      <td>2720.9399</td>\n",
       "    </tr>\n",
       "    <tr>\n",
       "      <th>2</th>\n",
       "      <td>2018-03-02</td>\n",
       "      <td>2691.2500</td>\n",
       "    </tr>\n",
       "    <tr>\n",
       "      <th>3</th>\n",
       "      <td>2018-03-01</td>\n",
       "      <td>2677.6699</td>\n",
       "    </tr>\n",
       "    <tr>\n",
       "      <th>4</th>\n",
       "      <td>2018-02-28</td>\n",
       "      <td>2713.8301</td>\n",
       "    </tr>\n",
       "  </tbody>\n",
       "</table>\n",
       "</div>"
      ],
      "text/plain": [
       "    timestamp  close_DAX\n",
       "0  2018-03-06  2728.1201\n",
       "1  2018-03-05  2720.9399\n",
       "2  2018-03-02  2691.2500\n",
       "3  2018-03-01  2677.6699\n",
       "4  2018-02-28  2713.8301"
      ]
     },
     "execution_count": 63,
     "metadata": {},
     "output_type": "execute_result"
    }
   ],
   "source": [
    "df.head(n=5)"
   ]
  },
  {
   "cell_type": "code",
   "execution_count": 64,
   "metadata": {},
   "outputs": [
    {
     "data": {
      "text/plain": [
       "Int64Index([], dtype='int64')"
      ]
     },
     "execution_count": 64,
     "metadata": {},
     "output_type": "execute_result"
    }
   ],
   "source": [
    "df.loc[(df==0).any(axis=1)].index"
   ]
  },
  {
   "cell_type": "code",
   "execution_count": 65,
   "metadata": {
    "collapsed": true
   },
   "outputs": [],
   "source": [
    "df = df.drop(df.loc[(df==0).any(axis=1)].index)"
   ]
  },
  {
   "cell_type": "code",
   "execution_count": 66,
   "metadata": {
    "scrolled": true
   },
   "outputs": [
    {
     "data": {
      "text/plain": [
       "<matplotlib.axes._subplots.AxesSubplot at 0x7fce68fb4ef0>"
      ]
     },
     "execution_count": 66,
     "metadata": {},
     "output_type": "execute_result"
    },
    {
     "data": {
      "image/png": "[encoded data removed]",
      "text/plain": [
       "<matplotlib.figure.Figure at 0x7fce69062f28>"
      ]
     },
     "metadata": {},
     "output_type": "display_data"
    }
   ],
   "source": [
    "df.plot(x='timestamp',y='close_DAX')"
   ]
  },
  {
   "cell_type": "code",
   "execution_count": 74,
   "metadata": {
    "collapsed": true
   },
   "outputs": [],
   "source": [
    "indices = [\n",
    "    '^GSPC', #S&P 500\n",
    "    '^DJI',  #DowJones 30\n",
    "    '^IXIC', #NASDAQ\n",
    "    '^NYA', #NYSE COMPOSITE (DJ)\n",
    "    '^XAX',  #NYSE AMEX COMPOSITE INDEX\n",
    "    '^BATSK',#BATS 1000 Index\n",
    "    '^RUT',  #Russell 2000\n",
    "    '^VIX',  #Vix\n",
    "    '^FTSE', #FTSE 100\n",
    "    '^GDAXI',#DAX\n",
    "    '^FCHI', #CAC 40\n",
    "    '^STOXX50E', #STOXX 50\n",
    "    '^N100', #EURONEXT 100\n",
    "    '^BFX',  #BEL 20 Brussels\n",
    "    '^N225', #Nikkei\n",
    "    '^HSI'  #Hangseng\n",
    "    \n",
    "    \n",
    "]"
   ]
  },
  {
   "cell_type": "code",
   "execution_count": 68,
   "metadata": {
    "collapsed": true
   },
   "outputs": [],
   "source": []
  },
  {
   "cell_type": "code",
   "execution_count": 69,
   "metadata": {
    "collapsed": true
   },
   "outputs": [],
   "source": [
    "def draw_data(index):\n",
    "    data = { \"function\": function, \n",
    "         \"symbol\": index, \n",
    "         \"apikey\": api_key,\n",
    "         \"outputsize\": 'compact',\n",
    "         \"datatype\": 'csv'} \n",
    "    page = requests.get(url, params = data)\n",
    "    with open('../data_' + index + '.csv', 'w') as oF:\n",
    "        oF.write(page.text)"
   ]
  },
  {
   "cell_type": "code",
   "execution_count": 79,
   "metadata": {},
   "outputs": [],
   "source": [
    "url = \"https://www.alphavantage.co/query\"\n",
    "index_data_dir = '../data/'\n",
    "function = \"TIME_SERIES_DAILY\"\n",
    "symbol = \"^GDAXI\"\n",
    "api_key = key\n",
    "\n",
    "for index in indices:\n",
    "    data = { \"function\": function, \n",
    "         \"symbol\": index, \n",
    "         \"apikey\": api_key,\n",
    "         \"outputsize\": 'compact',\n",
    "         \"datatype\": 'csv'} \n",
    "    page = requests.get(url, params = data)\n",
    "    with open(index_data_dir + 'data_' + index.strip('^') + '.csv', 'w') as oF:\n",
    "        oF.write(page.text)"
   ]
  },
  {
   "cell_type": "code",
   "execution_count": null,
   "metadata": {
    "collapsed": true
   },
   "outputs": [],
   "source": []
  }
 ],
 "metadata": {
  "kernelspec": {
   "display_name": "Python 3",
   "language": "python",
   "name": "python3"
  },
  "language_info": {
   "codemirror_mode": {
    "name": "ipython",
    "version": 3
   },
   "file_extension": ".py",
   "mimetype": "text/x-python",
   "name": "python",
   "nbconvert_exporter": "python",
   "pygments_lexer": "ipython3",
   "version": "3.6.3"
  }
 },
 "nbformat": 4,
 "nbformat_minor": 2
}
